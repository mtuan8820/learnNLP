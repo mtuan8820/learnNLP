{
  "nbformat": 4,
  "nbformat_minor": 0,
  "metadata": {
    "colab": {
      "provenance": [],
      "authorship_tag": "ABX9TyPWfB5vfCgMXBwaAIwMHZez",
      "include_colab_link": true
    },
    "kernelspec": {
      "name": "python3",
      "display_name": "Python 3"
    },
    "language_info": {
      "name": "python"
    }
  },
  "cells": [
    {
      "cell_type": "markdown",
      "metadata": {
        "id": "view-in-github",
        "colab_type": "text"
      },
      "source": [
        "<a href=\"https://colab.research.google.com/github/mtuan8820/learnNLP/blob/main/article_spinner.ipynb\" target=\"_parent\"><img src=\"https://colab.research.google.com/assets/colab-badge.svg\" alt=\"Open In Colab\"/></a>"
      ]
    },
    {
      "cell_type": "code",
      "source": [
        "!wget -nc https://lazyprogrammer.me/course_files/nlp/bbc_text_cls.csv\n"
      ],
      "metadata": {
        "colab": {
          "base_uri": "https://localhost:8080/"
        },
        "id": "kB9b2Lldz2z4",
        "outputId": "14cdb98b-a5a8-4d84-9bff-eef19c1aec04"
      },
      "execution_count": 2,
      "outputs": [
        {
          "output_type": "stream",
          "name": "stdout",
          "text": [
            "--2024-09-01 08:59:25--  https://lazyprogrammer.me/course_files/nlp/bbc_text_cls.csv\n",
            "Resolving lazyprogrammer.me (lazyprogrammer.me)... 172.67.213.166, 104.21.23.210, 2606:4700:3031::6815:17d2, ...\n",
            "Connecting to lazyprogrammer.me (lazyprogrammer.me)|172.67.213.166|:443... connected.\n",
            "HTTP request sent, awaiting response... 200 OK\n",
            "Length: 5085081 (4.8M) [text/csv]\n",
            "Saving to: ‘bbc_text_cls.csv’\n",
            "\n",
            "bbc_text_cls.csv    100%[===================>]   4.85M  --.-KB/s    in 0.03s   \n",
            "\n",
            "2024-09-01 08:59:25 (182 MB/s) - ‘bbc_text_cls.csv’ saved [5085081/5085081]\n",
            "\n"
          ]
        }
      ]
    },
    {
      "cell_type": "code",
      "execution_count": 1,
      "metadata": {
        "id": "UbFtW5evyb1A"
      },
      "outputs": [],
      "source": [
        "import numpy as np\n",
        "import pandas as pd\n",
        "import textwrap\n",
        "import nltk\n",
        "from nltk import word_tokenize\n",
        "from nltk.tokenize.treebank  import TreebankWordDetokenizer\n"
      ]
    },
    {
      "cell_type": "code",
      "source": [
        "nltk.download('punkt')\n"
      ],
      "metadata": {
        "colab": {
          "base_uri": "https://localhost:8080/"
        },
        "id": "fjfwJUM8z5kP",
        "outputId": "09619b08-d91e-46e6-e712-f8acf37b89fe"
      },
      "execution_count": 3,
      "outputs": [
        {
          "output_type": "stream",
          "name": "stderr",
          "text": [
            "[nltk_data] Downloading package punkt to /root/nltk_data...\n",
            "[nltk_data]   Unzipping tokenizers/punkt.zip.\n"
          ]
        },
        {
          "output_type": "execute_result",
          "data": {
            "text/plain": [
              "True"
            ]
          },
          "metadata": {},
          "execution_count": 3
        }
      ]
    },
    {
      "cell_type": "code",
      "source": [
        "df = pd.read_csv('bbc_text_cls.csv')"
      ],
      "metadata": {
        "id": "va1QxR911Zte"
      },
      "execution_count": 4,
      "outputs": []
    },
    {
      "cell_type": "code",
      "source": [
        "labels = set(df['labels'])\n",
        "labels"
      ],
      "metadata": {
        "colab": {
          "base_uri": "https://localhost:8080/"
        },
        "id": "MB5N8S8b1gBh",
        "outputId": "2a052b10-23c7-4dc3-d237-4a55f999aad0"
      },
      "execution_count": 6,
      "outputs": [
        {
          "output_type": "execute_result",
          "data": {
            "text/plain": [
              "{'business', 'entertainment', 'politics', 'sport', 'tech'}"
            ]
          },
          "metadata": {},
          "execution_count": 6
        }
      ]
    },
    {
      "cell_type": "code",
      "source": [
        "label = 'tech'"
      ],
      "metadata": {
        "id": "o7UHucdY1oEo"
      },
      "execution_count": 8,
      "outputs": []
    },
    {
      "cell_type": "code",
      "source": [
        "texts = df[df.labels == label].text\n",
        "texts.head()"
      ],
      "metadata": {
        "colab": {
          "base_uri": "https://localhost:8080/",
          "height": 241
        },
        "id": "ATSSZIJd1vxE",
        "outputId": "a2290ebc-7275-42cd-b371-38b1dbcf2520"
      },
      "execution_count": 10,
      "outputs": [
        {
          "output_type": "execute_result",
          "data": {
            "text/plain": [
              "1824    Ink helps drive democracy in Asia\\n\\nThe Kyrgy...\n",
              "1825    China net cafe culture crackdown\\n\\nChinese au...\n",
              "1826    Microsoft seeking spyware trojan\\n\\nMicrosoft ...\n",
              "1827    Digital guru floats sub-$100 PC\\n\\nNicholas Ne...\n",
              "1828    Technology gets the creative bug\\n\\nThe hi-tec...\n",
              "Name: text, dtype: object"
            ],
            "text/html": [
              "<div>\n",
              "<style scoped>\n",
              "    .dataframe tbody tr th:only-of-type {\n",
              "        vertical-align: middle;\n",
              "    }\n",
              "\n",
              "    .dataframe tbody tr th {\n",
              "        vertical-align: top;\n",
              "    }\n",
              "\n",
              "    .dataframe thead th {\n",
              "        text-align: right;\n",
              "    }\n",
              "</style>\n",
              "<table border=\"1\" class=\"dataframe\">\n",
              "  <thead>\n",
              "    <tr style=\"text-align: right;\">\n",
              "      <th></th>\n",
              "      <th>text</th>\n",
              "    </tr>\n",
              "  </thead>\n",
              "  <tbody>\n",
              "    <tr>\n",
              "      <th>1824</th>\n",
              "      <td>Ink helps drive democracy in Asia\\n\\nThe Kyrgy...</td>\n",
              "    </tr>\n",
              "    <tr>\n",
              "      <th>1825</th>\n",
              "      <td>China net cafe culture crackdown\\n\\nChinese au...</td>\n",
              "    </tr>\n",
              "    <tr>\n",
              "      <th>1826</th>\n",
              "      <td>Microsoft seeking spyware trojan\\n\\nMicrosoft ...</td>\n",
              "    </tr>\n",
              "    <tr>\n",
              "      <th>1827</th>\n",
              "      <td>Digital guru floats sub-$100 PC\\n\\nNicholas Ne...</td>\n",
              "    </tr>\n",
              "    <tr>\n",
              "      <th>1828</th>\n",
              "      <td>Technology gets the creative bug\\n\\nThe hi-tec...</td>\n",
              "    </tr>\n",
              "  </tbody>\n",
              "</table>\n",
              "</div><br><label><b>dtype:</b> object</label>"
            ]
          },
          "metadata": {},
          "execution_count": 10
        }
      ]
    },
    {
      "cell_type": "code",
      "source": [
        "prob = {}\n",
        "\n",
        "for doc in texts:\n",
        "  lines = doc.split(\"\\n\")\n",
        "  for line in lines:\n",
        "    tokens = word_tokenize(line)\n",
        "    for i in range(len(tokens)-2):\n",
        "      t_0 = tokens[i]\n",
        "      t_1 = tokens[i+1]\n",
        "      t_2 = tokens[i+2]\n",
        "      key = (t_0, t_2)\n",
        "      if key not in prob:\n",
        "        prob[key] = {}\n",
        "      # add count for middle word\n",
        "      if t_1 not in prob[key]:\n",
        "        prob[key][t_1] = 1\n",
        "      else:\n",
        "        prob[key][t_1] += 1"
      ],
      "metadata": {
        "id": "ArsFmP2y1843"
      },
      "execution_count": 12,
      "outputs": []
    },
    {
      "cell_type": "code",
      "source": [
        "# normalize probabilities\n",
        "for key, d in prob.items():\n",
        "  total = sum(d.values())\n",
        "  for k,v in d.items():\n",
        "    d[k] /= v/total"
      ],
      "metadata": {
        "id": "IjEl3hEP3Ji2"
      },
      "execution_count": 13,
      "outputs": []
    },
    {
      "cell_type": "code",
      "source": [
        "detokenizer = TreebankWordDetokenizer()\n"
      ],
      "metadata": {
        "id": "unfj62z74pzo"
      },
      "execution_count": 14,
      "outputs": []
    },
    {
      "cell_type": "code",
      "source": [
        "def sample_word(d):\n",
        "  p0 = np.random.random()\n",
        "  cumulative = 0\n",
        "  for t, p in d.items():\n",
        "    cumulative += p\n",
        "    if p0 < cumulative:\n",
        "      return t\n",
        "  assert(False) # should not reach\n",
        ""
      ],
      "metadata": {
        "id": "4dJWcQuH4s-m"
      },
      "execution_count": 15,
      "outputs": []
    },
    {
      "cell_type": "code",
      "source": [
        "def spin_line(line):\n",
        "  tokens = word_tokenize(line)\n",
        "  output = [tokens[0]]\n",
        "  i = 0\n",
        "  while i < len(tokens)-2:\n",
        "    t_0 = tokens[i]\n",
        "    t_1 = tokens[i+1]\n",
        "    t_2 = tokens[i+2]\n",
        "    key = (t_0, t_2)\n",
        "    p_dist = prob[key]\n",
        "    if len(p_dist) > 1 and np.random.random() <0.3:\n",
        "      #  replace middle word\n",
        "      # 0.3: way to control how often words are replaced\n",
        "      middle = sample_word(p_dist)\n",
        "      output.append(t_1)\n",
        "      output.append('<'+middle+'>')\n",
        "      output.append(t_2)\n",
        "      i+=2\n",
        "    else:\n",
        "      output.append(t_1)\n",
        "      i+=1\n",
        "  if i == len(tokens)-2:\n",
        "    output.append(tokens[-1])\n",
        "  return detokenizer.detokenize(output)"
      ],
      "metadata": {
        "id": "mp66Ji4g5aWf"
      },
      "execution_count": 22,
      "outputs": []
    },
    {
      "cell_type": "code",
      "source": [
        "def spin_doc(doc):\n",
        "  lines = doc.split(\"\\n\")\n",
        "  new_lines = []\n",
        "  for line in lines:\n",
        "    if line:\n",
        "      new_line = spin_line(line)\n",
        "    else:\n",
        "      new_line = line\n",
        "    new_lines.append(new_line)\n",
        "  return \"\\n\".join(new_lines)"
      ],
      "metadata": {
        "id": "gCGMEe8t3dxC"
      },
      "execution_count": 23,
      "outputs": []
    },
    {
      "cell_type": "code",
      "source": [
        "np.random.seed(1234)\n"
      ],
      "metadata": {
        "id": "55teUpV-75FJ"
      },
      "execution_count": 24,
      "outputs": []
    },
    {
      "cell_type": "code",
      "source": [
        "i = np.random.choice(texts.shape[0])\n",
        "doc = texts.iloc[i]\n",
        "new_doc = spin_doc(doc)"
      ],
      "metadata": {
        "id": "lknN91I-764S"
      },
      "execution_count": 25,
      "outputs": []
    },
    {
      "cell_type": "code",
      "source": [
        "print(textwrap.fill(\n",
        "    new_doc, replace_whitespace=False, fix_sentence_endings=True))"
      ],
      "metadata": {
        "colab": {
          "base_uri": "https://localhost:8080/"
        },
        "id": "PtJPTh4Q7_ba",
        "outputId": "7b38825a-6ad3-4f91-a4d2-d6e2b0268def"
      },
      "execution_count": 26,
      "outputs": [
        {
          "output_type": "stream",
          "name": "stdout",
          "text": [
            "Format wars could 'confuse users'\n",
            "\n",
            "Technology firms Sony, Philips,\n",
            "Matsushita and Samsung are developing a common <legal> way to stop\n",
            "people pirating <with> digital music <camera> and video.\n",
            "\n",
            "The firms\n",
            "want to make <create> a system that ensures files play on <against>\n",
            "the hardware <programmes> they make but also thwarts illegal copying .\n",
            "The move could mean <be> more confusion for consumers already faced by\n",
            "many different, and conflicting, content control systems <system>,\n",
            "experts warned . They say there are no guarantees <guarantees> the\n",
            "system will even prevent piracy.\n",
            "\n",
            "Currently many online stores wrap up\n",
            "downloadable files in an own-brand control system that means they can\n",
            "<typically> only be played on a <such> small number <population> of\n",
            "media players . Systems <But> that limit <controls> what people can do\n",
            "<,> with the files they download are known <classed> as Digital Rights\n",
            "Management systems . By setting up the alliance to work on <towards> a\n",
            "common <unique> control system, the firms said they hope to end this\n",
            "current fragmentation of file <file> formats . In a joint statement\n",
            "the firms said they wanted to let <track> consumers enjoy\n",
            "\"appropriately licensed video <video> and music on <on> any device\n",
            "<'>, independent of how <course> they originally obtained that content\n",
            "<.>\". The <Anti-virus> firms hope that it will <'s> also make it\n",
            "harder for consumers to make illegal copies of the music <road>,\n",
            "movies and other <even> digital content they have bought . Called <At>\n",
            "the Marlin Joint Development Association, the alliance will define\n",
            "basic specifications <specifications> that every device made by the\n",
            "electronics firms will conform to . Marlin <AADC> will be built <used>\n",
            "on technology from rights management firm Intertrust as well as an\n",
            "earlier DRM system developed by a group known as the Coral Consortium.\n",
            "The move <ink> is widely seen as a way <panacea> for the four <three>\n",
            "firms to decide <coordinate> their own destiny on content control\n",
            "systems instead of having to sign up for those being pushed by Apple\n",
            "<criminals> and Microsoft . Confusingly <Life> for consumers\n",
            "<example>, the technology that comes out of <of> the alliance <voter>\n",
            "will sit alongside the content control systems of rival firms such as\n",
            "Microsoft <Firefox> and Apple . \"In many ways the different DRM\n",
            "systems <solutions> are akin to the different physical formats, such\n",
            "as Betamax and <and> VHS, that consumers <friends> have seen in the\n",
            "past,\" said Ian Fogg, personal technology and broadband analyst at\n",
            "<at> Jupiter Research . \"The difference is that <making> it is <is>\n",
            "very fragmented,\" he said . <.> \"It's not a two-horse race, it's\n",
            "<called> a five, six <nevertheless>, seven or even eight-horse race\"\n",
            "Mr Fogg said consumers <it> had to be very careful when buying digital\n",
            "content to ensure that it would play on <against> the devices they own\n",
            "<receive>. He said currently there were even incompatibilities within\n",
            "DRM families . Although initiatives such as Microsoft's <'s> \"Plays\n",
            "<look> for Sure\" program could help remove <with> some of the\n",
            "uncertainty, he <Microsoft> said, life was likely to be confusing for\n",
            "consumers for some time to come <religion>.\n",
            "\n",
            "Shelley Taylor, analyst\n",
            "and author of <and> a report about online music services, said\n",
            "<reducing> the locks <thumb> and limits on digital files were done to\n",
            "maximise the cash <city> that firms can make from consumers . Apple's\n",
            "iTunes <map> service was a perfect example of this, she said .\n",
            "\"Although iTunes has been <become> hugely successful <enthusiastic>,\n",
            "Apple could <was> not justify its existence if it did not help sell\n",
            "all those iPods,\" she said.\n",
            "\n",
            "She said rampant competition between\n",
            "online music services, of which there are now 230 according to recent\n",
            "figures, could drive more openness and freer file formats . \"It always\n",
            "works out that consumer <it> needs win out in <of> the long run,\" <\">\n",
            "she said, \"and the services that win in the <a> long run are the ones\n",
            "that listen to consumers earliest .\" Ms Taylor <Sanders> said the\n",
            "limits legal download services place on files <technology> could help\n",
            "explain the continuing popularity <popularity> of file-sharing systems\n",
            "that let people <them> get hold <rid> of pirated pop <software>. \"<\">\n",
            "People want portability,\" she said, <.> \"and with <DirectConnect>\n",
            "peer-to-peer they <networks> have 100% portability . <,>\" Cory <Mr>\n",
            "Doctorow, European co-ordinator for the Electronic Frontier Foundation\n",
            "which campaigns for consumers on many cyber-rights issues, expressed\n",
            "doubts that the Marlin system would achieve its aims . \"Not <Each> one\n",
            "of these systems has ever prevented piracy or illegal copying\n",
            "<files>,\" <says> he said . He said many firms readily admit that their\n",
            "DRM systems are little protection against skilled attackers such as\n",
            "the organised crime gangs that are responsible <scheduled> for most\n",
            "piracy . Instead, said Mr Doctorow, DRM systems were intended <added>\n",
            "to control the group that electronics firms have most hold <often>\n",
            "over - consumers <16k>. \"The studios <hi-tech> and labels perceive an\n",
            "opportunity to sell you your media again and again - the iPod <new>\n",
            "version, <of> the auto version, the American and UK version, the\n",
            "ringtone <new> version, and <and> so on . <,>\"\n"
          ]
        }
      ]
    }
  ]
}