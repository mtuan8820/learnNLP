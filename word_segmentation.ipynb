{
 "cells": [
  {
   "cell_type": "code",
   "execution_count": 2,
   "metadata": {},
   "outputs": [
    {
     "name": "stderr",
     "output_type": "stream",
     "text": [
      "c:\\Users\\legolas\\anaconda3\\envs\\tf_cpu\\Lib\\site-packages\\tqdm\\auto.py:21: TqdmWarning: IProgress not found. Please update jupyter and ipywidgets. See https://ipywidgets.readthedocs.io/en/stable/user_install.html\n",
      "  from .autonotebook import tqdm as notebook_tqdm\n"
     ]
    }
   ],
   "source": [
    "from datasets import load_dataset\n",
    "#pass split param, load_dataset will return a Dataset instance instead of Dict\n",
    "data = load_dataset(\"ruanchaves/stan_large\",trust_remote_code=True, split=\"train\") "
   ]
  },
  {
   "cell_type": "code",
   "execution_count": 22,
   "metadata": {},
   "outputs": [],
   "source": [
    "# from datasets.utils import disable_progress_bar\n",
    "# disable_progress_bar()\n",
    "small_dataset = data.select(range(10))\n",
    "\n",
    "\n",
    "from preprocessing import Preprocess\n",
    "p = Preprocess()\n",
    "def preprocessing(data):\n",
    "    '''\n",
    "    data: dict\n",
    "    return preprocessed dataset: dict\n",
    "    '''\n",
    "\n",
    "    def _preprocess(text):\n",
    "        # lowercase text\n",
    "        text = p.lowercasing(text)\n",
    "        #remove special characters\n",
    "        text =p.removing_special_character(text)\n",
    "        return text\n",
    "    \n",
    "    \n",
    "    data['hashtag'] = _preprocess(data['hashtag'])\n",
    "\n",
    "    data['segmentation'] = _preprocess(data['segmentation'])\n",
    "    return data\n"
   ]
  },
  {
   "cell_type": "code",
   "execution_count": 24,
   "metadata": {},
   "outputs": [
    {
     "data": {
      "text/plain": [
       "['eclipse',\n",
       " 'k',\n",
       " 'pmqs',\n",
       " 'stupidaccident',\n",
       " 'addictivetvshows',\n",
       " 'tcm',\n",
       " 'wakinguptooearlyfail',\n",
       " 'nyc',\n",
       " 'helpme',\n",
       " 'slimnas']"
      ]
     },
     "execution_count": 24,
     "metadata": {},
     "output_type": "execute_result"
    }
   ],
   "source": [
    "\n",
    "filtered_dataset = small_dataset.map(preprocessing )\n",
    "filtered_dataset['segmentation']"
   ]
  }
 ],
 "metadata": {
  "kernelspec": {
   "display_name": "tf_cpu",
   "language": "python",
   "name": "python3"
  },
  "language_info": {
   "codemirror_mode": {
    "name": "ipython",
    "version": 3
   },
   "file_extension": ".py",
   "mimetype": "text/x-python",
   "name": "python",
   "nbconvert_exporter": "python",
   "pygments_lexer": "ipython3",
   "version": "3.12.3"
  }
 },
 "nbformat": 4,
 "nbformat_minor": 2
}
