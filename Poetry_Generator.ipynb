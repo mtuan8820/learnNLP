{
  "nbformat": 4,
  "nbformat_minor": 0,
  "metadata": {
    "colab": {
      "provenance": [],
      "toc_visible": true,
      "authorship_tag": "ABX9TyMPcSmIrx2//35Z2Uzn/GaJ",
      "include_colab_link": true
    },
    "kernelspec": {
      "name": "python3",
      "display_name": "Python 3"
    },
    "language_info": {
      "name": "python"
    }
  },
  "cells": [
    {
      "cell_type": "markdown",
      "metadata": {
        "id": "view-in-github",
        "colab_type": "text"
      },
      "source": [
        "<a href=\"https://colab.research.google.com/github/mtuan8820/learnNLP/blob/main/Poetry_Generator.ipynb\" target=\"_parent\"><img src=\"https://colab.research.google.com/assets/colab-badge.svg\" alt=\"Open In Colab\"/></a>"
      ]
    },
    {
      "cell_type": "code",
      "source": [
        "!wget -nc https://raw.githubusercontent.com/lazyprogrammer/machine_learning_examples/master/hmm_class/robert_frost.txt\n"
      ],
      "metadata": {
        "colab": {
          "base_uri": "https://localhost:8080/"
        },
        "id": "Mfbe8NBCrGdm",
        "outputId": "1f623493-4ce2-4676-cb0d-474436e219d6"
      },
      "execution_count": 1,
      "outputs": [
        {
          "output_type": "stream",
          "name": "stdout",
          "text": [
            "File ‘robert_frost.txt’ already there; not retrieving.\n",
            "\n"
          ]
        }
      ]
    },
    {
      "cell_type": "code",
      "source": [
        "import numpy as np\n",
        "import string"
      ],
      "metadata": {
        "id": "qVv9l3M1vLIy"
      },
      "execution_count": 2,
      "outputs": []
    },
    {
      "cell_type": "code",
      "execution_count": 3,
      "metadata": {
        "id": "9n81obu9rF8h"
      },
      "outputs": [],
      "source": [
        "input_texts = []\n",
        "for line in open('robert_frost.txt'):\n",
        "  line = line.rstrip().lower()\n",
        "  if line:\n",
        "    line = line.translate(str.maketrans('','',string.punctuation))\n",
        "    input_texts.append(line)\n"
      ]
    },
    {
      "cell_type": "code",
      "source": [
        "idx = 1\n",
        "word2idx = {}"
      ],
      "metadata": {
        "id": "EaKja0RNwrJo"
      },
      "execution_count": 4,
      "outputs": []
    },
    {
      "cell_type": "code",
      "source": [
        "for text in input_texts:\n",
        "  tokens = text.split()\n",
        "  for token in tokens:\n",
        "    if token not in word2idx:\n",
        "      word2idx[token] = idx\n",
        "      idx+=1"
      ],
      "metadata": {
        "id": "Liyi4zQ1vOYr"
      },
      "execution_count": 5,
      "outputs": []
    },
    {
      "cell_type": "code",
      "source": [
        "text_int = []\n",
        "for text in input_texts:\n",
        "  tokens = text.split()\n",
        "  line_as_int = [word2idx[token] for token in tokens]\n",
        "  text_int.append(line_as_int)"
      ],
      "metadata": {
        "id": "hIoUyCT6z8U3"
      },
      "execution_count": 6,
      "outputs": []
    },
    {
      "cell_type": "code",
      "source": [
        "A1 = {}\n",
        "pi = {}\n",
        "A2 = {}"
      ],
      "metadata": {
        "id": "VoRW6P-xw5eA"
      },
      "execution_count": 7,
      "outputs": []
    },
    {
      "cell_type": "code",
      "source": [
        "def generate_word_prob_dict(text_int,pi, A1, A2):\n",
        "  for token in text_int:\n",
        "    prev_prev_idx = None\n",
        "    prev_idx = None\n",
        "    for idx in token:\n",
        "        if prev_prev_idx is None and prev_idx is None:\n",
        "            # update pi matrix\n",
        "            if idx not in pi:\n",
        "                pi[idx] = 1\n",
        "            else:\n",
        "                pi[idx] +=1\n",
        "        elif prev_prev_idx is None and prev_idx is not None:\n",
        "            # update A1 matrix\n",
        "            # pdb.set_trace()\n",
        "            if A1 == {} or prev_idx not in A1:\n",
        "                A1[prev_idx] = {idx : 1}\n",
        "            elif idx not in A1[prev_idx]:\n",
        "                A1[prev_idx] = {idx : 1}\n",
        "            else:\n",
        "                A1[prev_idx][idx] +=1\n",
        "        else:\n",
        "            #update A2 matrix\n",
        "            if A2 == {} or (prev_prev_idx, prev_idx) not in A2:\n",
        "                A2[(prev_prev_idx, prev_idx)] = {idx : 1}\n",
        "            if idx not in A2[(prev_prev_idx, prev_idx)]:\n",
        "                A2[(prev_prev_idx, prev_idx)][idx] = 1\n",
        "            else:\n",
        "                A2[(prev_prev_idx, prev_idx)][idx] +=1\n",
        "        prev_prev_idx = prev_idx\n",
        "        prev_idx = idx\n",
        "  return pi, A1, A2"
      ],
      "metadata": {
        "id": "xLNL2fQ1y-E6"
      },
      "execution_count": 11,
      "outputs": []
    },
    {
      "cell_type": "code",
      "source": [
        "pi, A1, A2 =  generate_word_prob_dict(text_int, pi, A1, A2)\n",
        "list(A2.items())[:5]"
      ],
      "metadata": {
        "id": "wonHVkM111Hi",
        "colab": {
          "base_uri": "https://localhost:8080/"
        },
        "outputId": "f45b2c0d-4a8a-4b53-9959-1afe7bde152a"
      },
      "execution_count": 15,
      "outputs": [
        {
          "output_type": "execute_result",
          "data": {
            "text/plain": [
              "[((1, 2), {3: 11}),\n",
              " ((2, 3), {4: 11}),\n",
              " ((3, 4), {5: 11}),\n",
              " ((4, 5),\n",
              "  {6: 6,\n",
              "   7: 5,\n",
              "   986: 5,\n",
              "   1026: 5,\n",
              "   1424: 5,\n",
              "   1042: 5,\n",
              "   1410: 5,\n",
              "   1714: 5,\n",
              "   244: 5,\n",
              "   692: 5,\n",
              "   1001: 5,\n",
              "   1924: 5,\n",
              "   1019: 10}),\n",
              " ((5, 6), {7: 6})]"
            ]
          },
          "metadata": {},
          "execution_count": 15
        }
      ]
    },
    {
      "cell_type": "code",
      "source": [
        "for key in A1:\n",
        "  s = sum(A1[key].values())\n",
        "  for subkey in A1[key]:\n",
        "    A1[key][subkey] = A1[key][subkey]/s\n",
        "\n",
        "for key in A2:\n",
        "  s = sum(A2[key].values())\n",
        "  for subkey in A2[key]:\n",
        "    A2[key][subkey] = A2[key][subkey]/s\n",
        "\n",
        "s = sum(pi.values())\n",
        "for key in pi:\n",
        "  pi[key] = pi[key]/s\n"
      ],
      "metadata": {
        "id": "DxGk28RSL-8j"
      },
      "execution_count": 20,
      "outputs": []
    },
    {
      "cell_type": "code",
      "source": [
        "list(pi.items())[:5]"
      ],
      "metadata": {
        "colab": {
          "base_uri": "https://localhost:8080/"
        },
        "id": "Ze8D3PDUwfcJ",
        "outputId": "c0fc81ee-60c4-4503-fe3b-f75c79babb32"
      },
      "execution_count": 24,
      "outputs": [
        {
          "output_type": "execute_result",
          "data": {
            "text/plain": [
              "[(1, 0.005571030640668524),\n",
              " (8, 0.08983286908077995),\n",
              " (24, 0.034818941504178275),\n",
              " (30, 0.008356545961002786),\n",
              " (39, 0.0006963788300835655)]"
            ]
          },
          "metadata": {},
          "execution_count": 24
        }
      ]
    },
    {
      "cell_type": "code",
      "source": [
        "# prompt:  create class TextGenerator using markov model\n",
        "\n",
        "class TextGenerator:\n",
        "  def __init__(self, pi, A1, A2, word2idx):\n",
        "    self.pi = pi\n",
        "    self.A1 = A1\n",
        "    self.A2 = A2\n",
        "    self.word2idx = word2idx\n",
        "    self.idx2word = {v: k for k, v in word2idx.items()}\n",
        "\n",
        "  def generate_text(self, length=100):\n",
        "    # Generate text of given length\n",
        "    prev_prev_idx = None\n",
        "    prev_idx = None\n",
        "    text = []\n",
        "    for i in range(length):\n",
        "      if prev_prev_idx is None and prev_idx is None:\n",
        "        # Choose the first word based on pi\n",
        "        idx = self.sample_from_probs(self.pi)\n",
        "      elif prev_prev_idx is None and prev_idx is not None:\n",
        "        # Choose the next word based on A1\n",
        "        idx = self.sample_from_probs(self.A1[prev_idx])\n",
        "      else:\n",
        "        # Choose the next word based on A2\n",
        "        idx = self.sample_from_probs(self.A2[(prev_prev_idx, prev_idx)])\n",
        "      text.append(self.idx2word[idx])\n",
        "      prev_prev_idx = prev_idx\n",
        "      prev_idx = idx\n",
        "    return \" \".join(text)\n",
        "\n",
        "  def sample_from_probs(self, probs):\n",
        "    # Sample a word based on probabilities\n",
        "    total = sum(probs.values())\n",
        "    rand = np.random.rand() * total\n",
        "    cumulative = 0\n",
        "    for idx, prob in probs.items():\n",
        "      cumulative += prob\n",
        "      if cumulative > rand:\n",
        "        return idx\n",
        "    return list(probs.keys())[-1]  # Return the last key if no match found\n"
      ],
      "metadata": {
        "id": "uMBmSuGexjnq"
      },
      "execution_count": 26,
      "outputs": []
    },
    {
      "cell_type": "code",
      "source": [
        "generator = TextGenerator(pi, A1, A2, word2idx)\n",
        "text = generator.generate_text(100)\n",
        "text"
      ],
      "metadata": {
        "colab": {
          "base_uri": "https://localhost:8080/",
          "height": 311
        },
        "id": "_1vm8lvFysB2",
        "outputId": "f261953a-1c29-4f15-dc58-a6d932dffec2"
      },
      "execution_count": 35,
      "outputs": [
        {
          "output_type": "error",
          "ename": "KeyError",
          "evalue": "(2046, 45)",
          "traceback": [
            "\u001b[0;31m---------------------------------------------------------------------------\u001b[0m",
            "\u001b[0;31mKeyError\u001b[0m                                  Traceback (most recent call last)",
            "\u001b[0;32m<ipython-input-35-7f34ea700e4f>\u001b[0m in \u001b[0;36m<cell line: 2>\u001b[0;34m()\u001b[0m\n\u001b[1;32m      1\u001b[0m \u001b[0mgenerator\u001b[0m \u001b[0;34m=\u001b[0m \u001b[0mTextGenerator\u001b[0m\u001b[0;34m(\u001b[0m\u001b[0mpi\u001b[0m\u001b[0;34m,\u001b[0m \u001b[0mA1\u001b[0m\u001b[0;34m,\u001b[0m \u001b[0mA2\u001b[0m\u001b[0;34m,\u001b[0m \u001b[0mword2idx\u001b[0m\u001b[0;34m)\u001b[0m\u001b[0;34m\u001b[0m\u001b[0;34m\u001b[0m\u001b[0m\n\u001b[0;32m----> 2\u001b[0;31m \u001b[0mtext\u001b[0m \u001b[0;34m=\u001b[0m \u001b[0mgenerator\u001b[0m\u001b[0;34m.\u001b[0m\u001b[0mgenerate_text\u001b[0m\u001b[0;34m(\u001b[0m\u001b[0;36m100\u001b[0m\u001b[0;34m)\u001b[0m\u001b[0;34m\u001b[0m\u001b[0;34m\u001b[0m\u001b[0m\n\u001b[0m\u001b[1;32m      3\u001b[0m \u001b[0mtext\u001b[0m\u001b[0;34m\u001b[0m\u001b[0;34m\u001b[0m\u001b[0m\n",
            "\u001b[0;32m<ipython-input-26-09933921095e>\u001b[0m in \u001b[0;36mgenerate_text\u001b[0;34m(self, length)\u001b[0m\n\u001b[1;32m     23\u001b[0m       \u001b[0;32melse\u001b[0m\u001b[0;34m:\u001b[0m\u001b[0;34m\u001b[0m\u001b[0;34m\u001b[0m\u001b[0m\n\u001b[1;32m     24\u001b[0m         \u001b[0;31m# Choose the next word based on A2\u001b[0m\u001b[0;34m\u001b[0m\u001b[0;34m\u001b[0m\u001b[0m\n\u001b[0;32m---> 25\u001b[0;31m         \u001b[0midx\u001b[0m \u001b[0;34m=\u001b[0m \u001b[0mself\u001b[0m\u001b[0;34m.\u001b[0m\u001b[0msample_from_probs\u001b[0m\u001b[0;34m(\u001b[0m\u001b[0mself\u001b[0m\u001b[0;34m.\u001b[0m\u001b[0mA2\u001b[0m\u001b[0;34m[\u001b[0m\u001b[0;34m(\u001b[0m\u001b[0mprev_prev_idx\u001b[0m\u001b[0;34m,\u001b[0m \u001b[0mprev_idx\u001b[0m\u001b[0;34m)\u001b[0m\u001b[0;34m]\u001b[0m\u001b[0;34m)\u001b[0m\u001b[0;34m\u001b[0m\u001b[0;34m\u001b[0m\u001b[0m\n\u001b[0m\u001b[1;32m     26\u001b[0m       \u001b[0mtext\u001b[0m\u001b[0;34m.\u001b[0m\u001b[0mappend\u001b[0m\u001b[0;34m(\u001b[0m\u001b[0mself\u001b[0m\u001b[0;34m.\u001b[0m\u001b[0midx2word\u001b[0m\u001b[0;34m[\u001b[0m\u001b[0midx\u001b[0m\u001b[0;34m]\u001b[0m\u001b[0;34m)\u001b[0m\u001b[0;34m\u001b[0m\u001b[0;34m\u001b[0m\u001b[0m\n\u001b[1;32m     27\u001b[0m       \u001b[0mprev_prev_idx\u001b[0m \u001b[0;34m=\u001b[0m \u001b[0mprev_idx\u001b[0m\u001b[0;34m\u001b[0m\u001b[0;34m\u001b[0m\u001b[0m\n",
            "\u001b[0;31mKeyError\u001b[0m: (2046, 45)"
          ]
        }
      ]
    }
  ]
}